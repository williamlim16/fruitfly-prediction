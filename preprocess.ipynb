{
 "cells": [
  {
   "cell_type": "code",
   "execution_count": 1,
   "metadata": {},
   "outputs": [],
   "source": [
    "import pandas as pd\n",
    "import numpy as np\n",
    "\n",
    "from sklearn.decomposition import PCA\n",
    "from sklearn.preprocessing import LabelEncoder, StandardScaler"
   ]
  },
  {
   "cell_type": "code",
   "execution_count": 18,
   "metadata": {},
   "outputs": [],
   "source": [
    "df = pd.read_csv(\"data.csv\")\n",
    "required_columns = ['Species', 'Population', 'Temperature', 'Vial', 'Replicate',\n",
    "                    'Sex', 'Thorax_length', 'l2', 'l3p', 'l3d', 'lpd', 'l3',\n",
    "                    'w1', 'w2', 'w3', 'wing_loading']\n",
    "df = df[required_columns]\n",
    "\n",
    "df['Species'] = LabelEncoder().fit_transform(df['Species'])\n",
    "df['wing_loading'] = pd.to_numeric(df['wing_loading'], errors='coerce')\n",
    "\n",
    "numerical_cols = ['l2', 'l3p', 'lpd', 'l3', 'w1', 'w2', 'w3', 'wing_loading']\n",
    "for col in numerical_cols:\n",
    "    reflected_data = df[col].max() + 1 - df[col]\n",
    "    df[col + '_log'] = np.log(reflected_data)\n",
    "\n",
    "scaler = StandardScaler()\n",
    "df[numerical_cols] = scaler.fit_transform(\n",
    "    df[[col + '_log' for col in numerical_cols]])\n",
    "log_num_cols = []\n",
    "for i in numerical_cols:\n",
    "    log_num_cols.append(i)\n",
    "    log_num_cols.append(i+'_log')\n",
    "\n",
    "\n",
    "df = df.dropna()\n",
    "pca = PCA(n_components=3)\n",
    "pca_components = pca.fit_transform(df[log_num_cols])\n",
    "pca_df = pd.DataFrame(pca_components, columns=[\n",
    "                      'PC1', 'PC2', 'PC3'])\n",
    "pca_df['Species'] = df['Species']\n",
    "pca_df = pca_df.dropna()\n",
    "\n",
    "X = pca_df.drop('Species', axis=1)\n",
    "y = pca_df['Species']\n",
    "\n",
    "final_df = pd.concat([X, y], axis=1)\n",
    "final_df.to_csv(\"preprocessed.csv\", index=False)"
   ]
  },
  {
   "cell_type": "code",
   "execution_count": 19,
   "metadata": {},
   "outputs": [],
   "source": [
    "# Without PCA\n",
    "df = pd.read_csv(\"data.csv\")\n",
    "required_columns = ['Species', 'Population', 'Temperature', 'Vial', 'Replicate',\n",
    "                    'Sex', 'Thorax_length', 'l2', 'l3p', 'l3d', 'lpd', 'l3',\n",
    "                    'w1', 'w2', 'w3', 'wing_loading']\n",
    "df = df[required_columns]\n",
    "\n",
    "df['Species'] = LabelEncoder().fit_transform(df['Species'])\n",
    "df['wing_loading'] = pd.to_numeric(df['wing_loading'], errors='coerce')\n",
    "\n",
    "numerical_cols = ['l2', 'l3p', 'lpd', 'l3', 'w1', 'w2', 'w3', 'wing_loading']\n",
    "for col in numerical_cols:\n",
    "    reflected_data = df[col].max() + 1 - df[col]\n",
    "    df[col + '_log'] = np.log(reflected_data)\n",
    "\n",
    "scaler = StandardScaler()\n",
    "df[numerical_cols] = scaler.fit_transform(\n",
    "    df[[col + '_log' for col in numerical_cols]])\n",
    "log_num_cols = []\n",
    "for i in numerical_cols:\n",
    "    log_num_cols.append(i)\n",
    "    log_num_cols.append(i+'_log')\n",
    "\n",
    "\n",
    "df = df.dropna()"
   ]
  },
  {
   "cell_type": "code",
   "execution_count": 25,
   "metadata": {},
   "outputs": [],
   "source": [
    "df[['Species', 'l2_log', 'l3p_log', 'lpd_log', 'l3_log', 'w1_log',\n",
    "    'w2_log', 'w3_log', 'wing_loading_log']].to_csv(\"data_without_pca.csv\", index=False)"
   ]
  }
 ],
 "metadata": {
  "kernelspec": {
   "display_name": "Python 3 (ipykernel)",
   "language": "python",
   "name": "python3"
  },
  "language_info": {
   "codemirror_mode": {
    "name": "ipython",
    "version": 3
   },
   "file_extension": ".py",
   "mimetype": "text/x-python",
   "name": "python",
   "nbconvert_exporter": "python",
   "pygments_lexer": "ipython3",
   "version": "3.10.13"
  }
 },
 "nbformat": 4,
 "nbformat_minor": 4
}
